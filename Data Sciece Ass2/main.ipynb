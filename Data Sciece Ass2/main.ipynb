{
 "cells": [
  {
   "cell_type": "code",
   "execution_count": 1,
   "id": "6b7801af-6217-44ad-a6a0-dd91441b74cc",
   "metadata": {},
   "outputs": [
    {
     "name": "stdout",
     "output_type": "stream",
     "text": [
      "Model saved as accident_severity_model.pkl\n",
      "Predicted Casualty Severity: 2.5634376648404618\n"
     ]
    }
   ],
   "source": [
    "import pandas as pd\n",
    "from sklearn.model_selection import train_test_split\n",
    "from sklearn.linear_model import LinearRegression\n",
    "from sklearn.preprocessing import StandardScaler\n",
    "import pickle\n",
    "\n",
    "# Load the dataset\n",
    "dataset = pd.read_csv('mydataset.csv')\n",
    "\n",
    "# Selecting relevant features and the target variable\n",
    "X = dataset[['Number of Vehicles', 'Number of Casualties', 'Road Surface', \n",
    "             'Lighting Conditions', 'Weather Conditions', 'Type of Vehicle', \n",
    "             'Sex of Casualty', 'Age of Casualty']]\n",
    "y = dataset['Casualty Severity']\n",
    "\n",
    "# Splitting the data into training and testing sets\n",
    "X_train, X_test, y_train, y_test = train_test_split(X, y, test_size=0.2, random_state=42)\n",
    "\n",
    "# Standardizing the features\n",
    "scaler = StandardScaler()\n",
    "X_train_scaled = scaler.fit_transform(X_train)\n",
    "X_test_scaled = scaler.transform(X_test)\n",
    "\n",
    "# Creating and training the linear regression model\n",
    "model = LinearRegression()\n",
    "model.fit(X_train_scaled, y_train)\n",
    "\n",
    "# Saving the trained model to a file for future use\n",
    "model_filename = 'accident_severity_model.pkl' # file saved in pickle format\n",
    "with open(model_filename, 'wb') as file:\n",
    "    pickle.dump(model, file)\n",
    "\n",
    "print(f\"Model saved as {model_filename}\")\n",
    "\n",
    "# Hypothetical scenario for prediction\n",
    "hypothetical_data = pd.DataFrame({\n",
    "    'Number of Vehicles': [2],\n",
    "    'Number of Casualties': [1],\n",
    "    'Road Surface': [1],\n",
    "    'Lighting Conditions': [2],\n",
    "    'Weather Conditions': [1],\n",
    "    'Type of Vehicle': [10],\n",
    "    'Sex of Casualty': [1],\n",
    "    'Age of Casualty': [35]\n",
    "})\n",
    "\n",
    "# Scaling the hypothetical data\n",
    "hypothetical_data_scaled = scaler.transform(hypothetical_data)\n",
    "\n",
    "# Predicting the casualty severity\n",
    "predicted_severity = model.predict(hypothetical_data_scaled)\n",
    "print(f\"Predicted Casualty Severity: {predicted_severity[0]}\")"
   ]
  },
  {
   "cell_type": "code",
   "execution_count": null,
   "id": "7403d6da-3477-446a-bcd8-d0f81e865d91",
   "metadata": {},
   "outputs": [],
   "source": []
  }
 ],
 "metadata": {
  "kernelspec": {
   "display_name": "Python 3 (ipykernel)",
   "language": "python",
   "name": "python3"
  },
  "language_info": {
   "codemirror_mode": {
    "name": "ipython",
    "version": 3
   },
   "file_extension": ".py",
   "mimetype": "text/x-python",
   "name": "python",
   "nbconvert_exporter": "python",
   "pygments_lexer": "ipython3",
   "version": "3.12.4"
  }
 },
 "nbformat": 4,
 "nbformat_minor": 5
}
